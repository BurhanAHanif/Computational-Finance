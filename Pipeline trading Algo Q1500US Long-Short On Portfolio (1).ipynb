{
 "cells": [
  {
   "cell_type": "markdown",
   "metadata": {},
   "source": [
    "## This code will only work on the Quantopian Platform"
   ]
  },
  {
   "cell_type": "markdown",
   "metadata": {},
   "source": [
    "#PipeLine Trading ALgorithm for Notebook"
   ]
  },
  {
   "cell_type": "code",
   "execution_count": null,
   "metadata": {},
   "outputs": [],
   "source": [
    "# Imports Needed\n",
    "from quantopian.pipeline import Pipeline\n",
    "from quantopian.research import run_pipeline\n",
    "from quantopian.pipeline.data.builtin import USEquityPricing"
   ]
  },
  {
   "cell_type": "code",
   "execution_count": null,
   "metadata": {},
   "outputs": [],
   "source": [
    "# Import Derivative from Quantopian Sector\n",
    "from quantopian.pipeline.filters import Q1500US"
   ]
  },
  {
   "cell_type": "code",
   "execution_count": null,
   "metadata": {},
   "outputs": [],
   "source": [
    "# getting the specific class of Assets or Securties \n",
    "base_universe = Q1500US()"
   ]
  },
  {
   "cell_type": "code",
   "execution_count": null,
   "metadata": {},
   "outputs": [],
   "source": [
    "# Import data from morningstar feed \n",
    "from quantopian.pipeline.data import morningstar"
   ]
  },
  {
   "cell_type": "code",
   "execution_count": null,
   "metadata": {},
   "outputs": [],
   "source": [
    "# vaiable with latest \n",
    "sector = morningstar.asset_classification.morningstar_sector_code.latest"
   ]
  },
  {
   "cell_type": "code",
   "execution_count": null,
   "metadata": {},
   "outputs": [],
   "source": [
    "energy_sector = sector.eq(309)"
   ]
  },
  {
   "cell_type": "code",
   "execution_count": null,
   "metadata": {},
   "outputs": [],
   "source": [
    "# import simple moving average and average dollor volume traded\n",
    "from quantopian.pipeline.factors import SimpleMovingAverage,AverageDollarVolume"
   ]
  },
  {
   "cell_type": "code",
   "execution_count": null,
   "metadata": {},
   "outputs": [],
   "source": [
    "dollar_volume= AverageDollarVolume(window_length = 30)"
   ]
  },
  {
   "cell_type": "code",
   "execution_count": null,
   "metadata": {},
   "outputs": [],
   "source": [
    "# percentile between 90% and 100%\n",
    "high_dollar_volume=dollar_volume.percentile_between(90,100)"
   ]
  },
  {
   "cell_type": "code",
   "execution_count": null,
   "metadata": {},
   "outputs": [],
   "source": [
    "# top 50 in price for equities \n",
    "top_open_prices = USEquityPricing.open.latest.top(50,mask=high_dollar_volume)"
   ]
  },
  {
   "cell_type": "code",
   "execution_count": null,
   "metadata": {},
   "outputs": [],
   "source": [
    "# highest close price between the 90 and 100 percent range\n",
    "high_close_price = USEquityPricing.close.latest.percentile_between(90,100,mask= top_open_prices)"
   ]
  },
  {
   "cell_type": "code",
   "execution_count": null,
   "metadata": {},
   "outputs": [],
   "source": []
  },
  {
   "cell_type": "code",
   "execution_count": null,
   "metadata": {},
   "outputs": [],
   "source": [
    "def make_pipeline():\n",
    "    #universe Q1500Us\n",
    "    \n",
    "    base_universe = Q1500US()\n",
    "    \n",
    "    #energy Sector \n",
    "   \n",
    "    energy_sector = sector.eq(309\n",
    "                             )\n",
    "    #make mask for 1500US and energy\n",
    "    \n",
    "    base_energy = base_universe & energy_sector\n",
    "    \n",
    "    #dollar voloume (30 days) get the info\n",
    "    \n",
    "    dollar_volume = AverageDollarVolume(window_length = 30)\n",
    "    \n",
    "    # get the top 5% in avg dollar volume \n",
    "    high_dollar_volume = dollar_volume.percentile_between(95,100)\n",
    "    \n",
    "    #combine the filters \n",
    "    top_five_base_energy = base_energy & high_dollar_volume\n",
    "    \n",
    "    # 10 day Mean close\n",
    "    \n",
    "    mean_10 = SimpleMovingAverage(inputs=[USEquityPricing.close], window_length = 10, mask = top_five_base_energy)\n",
    "    \n",
    "    # 30 Day mean close\n",
    "    \n",
    "    mean_30 = SimpleMovingAverage(inputs=[USEquityPricing.close], window_length = 30, mask = top_five_base_energy)\n",
    "\n",
    "    #percent difference \n",
    "    \n",
    "    percent_difference = ((mean_10 - mean_30)/mean_30)\n",
    "    \n",
    "    #list of shorts \n",
    "    \n",
    "    shorts = percent_difference < 0 \n",
    "    \n",
    "    #list of longs\n",
    "    \n",
    "    longs = percent_difference > 0 \n",
    "    \n",
    "    #Final mask/Filter for anything to shorts for longs \n",
    "    securties_to_trade = (shorts | longs)\n",
    "    #return pipeline \n",
    "    return Pipeline(columns = {\n",
    "        'longs': longs,\n",
    "        'shorts':shorts,\n",
    "         'perc_difference': percent_difference                      \n",
    "        } ,screen = securties_to_trade)\n",
    "    \n",
    "    \n",
    "    "
   ]
  },
  {
   "cell_type": "code",
   "execution_count": null,
   "metadata": {},
   "outputs": [],
   "source": [
    "result = run_pipeline(make_pipeline(),'2019-03-01','2019-03-01')\n",
    "result"
   ]
  },
  {
   "cell_type": "code",
   "execution_count": null,
   "metadata": {},
   "outputs": [],
   "source": [
    "result.info()"
   ]
  },
  {
   "cell_type": "markdown",
   "metadata": {},
   "source": [
    "## Code for the Quantopian IDE "
   ]
  },
  {
   "cell_type": "code",
   "execution_count": null,
   "metadata": {},
   "outputs": [],
   "source": [
    "from quantopian.algorithm import attach_pipeline,pipeline_output\n",
    "from quantopian.pipeline import Pipeline\n",
    "from quantopian.pipeline.data.builtin import USEquityPricing\n",
    "from quantopian.pipeline.factors import AverageDollarVolume,SimpleMovingAverage\n",
    "from quantopian.pipeline.filters.morningstar import Q1500US\n",
    "from quantopian.pipeline.data import morningstar\n",
    "\n",
    "def initialize(context):\n",
    "    \n",
    "    schedule_function(my_rebalance,date_rules.week_start(),time_rules.market_open(hours=1))\n",
    "    \n",
    "    my_pipe = make_pipeline()\n",
    "    attach_pipeline(my_pipe,'my_pipeline')\n",
    "    \n",
    "def my_rebalance(context,data):\n",
    "    for security in context.portfolio.positions:\n",
    "        if security not in context.longs and security not in context.shorts and data.can_trade(security):\n",
    "            order_target_percent(security,0)\n",
    "            \n",
    "    for security in context.longs:\n",
    "        if data.can_trade(security):\n",
    "            order_target_percent(security,context.long_weight)\n",
    "\n",
    "    for security in context.shorts:\n",
    "        if data.can_trade(security):\n",
    "            order_target_percent(security,context.short_weight)\n",
    "\n",
    "\n",
    "\n",
    "\n",
    "def my_compute_weights(context):\n",
    "    \n",
    "    if len(context.longs)==0:\n",
    "        long_weight = 0\n",
    "    else:\n",
    "        long_weight = 0.5 / len(context.longs)\n",
    "  \n",
    "    if len(context.shorts)==0:\n",
    "        short_weight = 0\n",
    "    else:\n",
    "        short_weight = 0.5 / len(context.shorts)\n",
    "    \n",
    "    return (long_weight,short_weight)\n",
    "\n",
    "\n",
    "\n",
    "\n",
    "\n",
    "\n",
    "def before_trading_start(context,data):\n",
    "    context.output = pipeline_output('my_pipeline')\n",
    "    \n",
    "    # LONG\n",
    "    context.longs = context.output[context.output['longs']].index.tolist()\n",
    "    \n",
    "    # SHORT\n",
    "    context.shorts = context.output[context.output['shorts']].index.tolist()\n",
    "\n",
    "\n",
    "    context.long_weight,context.short_weight = my_compute_weights(context)\n",
    "    \n",
    "def make_pipeline():\n",
    "    #universe Q1500Us\n",
    "    \n",
    "    base_universe = Q1500US()\n",
    "    \n",
    "    #energy Sector \n",
    "   \n",
    "    energy_sector = sector.eq(309\n",
    "                             )\n",
    "    #make mask for 1500US and energy\n",
    "    \n",
    "    base_energy = base_universe & energy_sector\n",
    "    \n",
    "    #dollar voloume (30 days) get the info\n",
    "    \n",
    "    dollar_volume = AverageDollarVolume(window_length = 30)\n",
    "    \n",
    "    # get the top 5% in avg dollar volume \n",
    "    high_dollar_volume = dollar_volume.percentile_between(95,100)\n",
    "    \n",
    "    #combine the filters \n",
    "    top_five_base_energy = base_energy & high_dollar_volume\n",
    "    \n",
    "    # 10 day Mean close\n",
    "    \n",
    "    mean_10 = SimpleMovingAverage(inputs=[USEquityPricing.close], window_length = 10, mask = top_five_base_energy)\n",
    "    \n",
    "    # 30 Day mean close\n",
    "    \n",
    "    mean_30 = SimpleMovingAverage(inputs=[USEquityPricing.close], window_length = 30, mask = top_five_base_energy)\n",
    "\n",
    "    #percent difference \n",
    "    \n",
    "    percent_difference = ((mean_10 - mean_30)/mean_30)\n",
    "    \n",
    "    #list of shorts \n",
    "    \n",
    "    shorts = percent_difference < 0 \n",
    "    \n",
    "    #list of longs\n",
    "    \n",
    "    longs = percent_difference > 0 \n",
    "    \n",
    "    #Final mask/Filter for anything to shorts for longs \n",
    "    securties_to_trade = (shorts | longs)\n",
    "    #return pipeline \n",
    "    return Pipeline(columns = {\n",
    "        'longs': longs,\n",
    "        'shorts':shorts,\n",
    "         'perc_difference': percent_difference                      \n",
    "        } ,screen = securties_to_trade)"
   ]
  },
  {
   "cell_type": "code",
   "execution_count": null,
   "metadata": {},
   "outputs": [],
   "source": []
  }
 ],
 "metadata": {
  "kernelspec": {
   "display_name": "Python 3.5",
   "language": "python",
   "name": "py35"
  }
 },
 "nbformat": 4,
 "nbformat_minor": 2
}